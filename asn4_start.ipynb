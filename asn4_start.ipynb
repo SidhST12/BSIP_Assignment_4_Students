{
 "cells": [
  {
   "cell_type": "code",
   "execution_count": 45,
   "metadata": {},
   "outputs": [],
   "source": [
    "import numpy as np\n",
    "import pandas as pd\n",
    "import seaborn as sns\n",
    "import matplotlib.pyplot as plt\n",
    "import seaborn as sns\n",
    "import thinkstats2\n",
    "import thinkplot\n",
    "from sklearn.linear_model import LogisticRegression\n",
    "from sklearn.metrics import accuracy_score, f1_score, mean_squared_error, confusion_matrix\n",
    "from sklearn.model_selection import train_test_split"
   ]
  },
  {
   "cell_type": "markdown",
   "metadata": {},
   "source": [
    "# Assignment 4 - Classification\n",
    "\n",
    "For this assignment, you'll need to perform a classification on a dataset, as well as do some prep work on the data. \n",
    "\n",
    "The exact steps of what you need to do are flexible and up to you to some degree, however you should consider some of the important things we've mentioned recently, such as:\n",
    "<ul>\n",
    "<li> Is the target balanced?\n",
    "<li> Are there missing or erroneous values?\n",
    "<li> Are there categorical or numerical features?\n",
    "<li> Is there colinearity?\n",
    "<li> Are there outliers?\n",
    "<li> Should we normalize? \n",
    "<li> Do the distributions of the features give any indication that some may need work? \n",
    "</ul>\n",
    "\n",
    "Basically, the data is in the original, potentially dirty, format, and you need to find what should be cleaned, and do the cleaning. There is not one \"right\" answer to what has to be done, and you'll probably need to do it with at least something of an iterative process - find an issue, correct it, check the data, repeat.\n",
    "\n",
    "<b>The target that we are predicting is the loan_status. </b>\n",
    "\n",
    "## Grading\n",
    "\n",
    "The grades will be broken down as follows:\n",
    "<ul>\n",
    "<li> <b>30%</b> - a working predictive model with a reasonable level of accuracy. \n",
    "    <ul>\n",
    "    <li> For the accuracy part, it will not be explicitly graded, but compared to all the others. If you're in the same general range, that's good - if yours is drastically less accurate (or, I guess more accurate), then I'll adjust. There won't be a comparison of \"this person is 72.3% and this person is only 71.8% accurate, they fail.\"\n",
    "    <li> This data is larger than most of the small sample sets, so random variations due to train-test splits shouldn't be too bad. (If you're a keener you could loop)\n",
    "    <li> I will use the F1 score as the accuracy metric. \n",
    "    </ul>\n",
    "<li> <b>40%</b> - a clear and readable description of what steps you took to prepare the data, and a brief not on the rationale behind it. Did you do a log transformation to a skewed feature, did you remove outliers, did you remove a feature that has a lot of missing values? Please put this somewhere obvious and readable, consider the goal of the assignment to explain your process to me. \n",
    "    <ul>\n",
    "    <li> E.g. \"The target data was imbalanced, so I tried several resampling methods and chose the one with the highest accuracy of the resulting model\", \"the feature X had the same value for 95% of records, so I dropped it\". \n",
    "    <li> In this, please also state if you see a group that appears to be a good credit risk, and a group that is a bad credit risk, and indicate the evidence showing that. Please do this other than the most simplistic way - more money = better credit. If there are no such groups, state why you think this. This will likely be about 3 - 5 statements or points, you should provide evidence from the data, but it does not need to be an essay. (You may want to consider this question after you're pretty much done with the data prep and modelling.)\n",
    "    </ul>\n",
    "<li> <b>30%</b> - allowing your model to be \"deployed\". At the bottom of this file there is a small block of code to load in some test data (that I have), and calculate your accuracy. Your contribution to this part is to have a model that is ready to make predictions. Some specifics to consider:\n",
    "    <ul>\n",
    "    <li> The test data will be in exactly the same format as the dataset you're given. So any steps that you took to prepare your data for modelling will need to be mirroed here, so the new  data can be predicted. The easiest way to do this is to use a pipeline, but it is up to you. Remember the model only accepts data that is in a certain format - the one that you had the data in when it was trained, so when making predictions you need to make sure that is true. \n",
    "    <li> Since I'm providing test data, and your task is to just create a model, think about how that might impact your train-test splitting, both as you're developing and for the final product. \n",
    "    <li> Once the model is trained it should predict any data that is in the right format, so I should be able to provide any proper dataset, click run on that testing cell, and get predictions. I will not be doing anything that will purposefully make this harder or trickier, like including data that has errors or is in the wrong format, I just split the entire set of data, reserved part of it to test accuracy, and gave the rest to you. Things that you've changed (e.g. dropping a column, one-hot encoding) do need to be replicated at some point before the model can accept the new data to predict. In general we <b>do</b> want to check in our processing that our input is valid, this is kind of a junior introduction to that. \n",
    "    </ul>\n",
    "</ul"
   ]
  },
  {
   "cell_type": "markdown",
   "metadata": {},
   "source": [
    "## Load Credit Data"
   ]
  },
  {
   "cell_type": "code",
   "execution_count": 46,
   "metadata": {},
   "outputs": [
    {
     "data": {
      "text/html": [
       "<div>\n",
       "<style scoped>\n",
       "    .dataframe tbody tr th:only-of-type {\n",
       "        vertical-align: middle;\n",
       "    }\n",
       "\n",
       "    .dataframe tbody tr th {\n",
       "        vertical-align: top;\n",
       "    }\n",
       "\n",
       "    .dataframe thead th {\n",
       "        text-align: right;\n",
       "    }\n",
       "</style>\n",
       "<table border=\"1\" class=\"dataframe\">\n",
       "  <thead>\n",
       "    <tr style=\"text-align: right;\">\n",
       "      <th></th>\n",
       "      <th>Unnamed: 0</th>\n",
       "      <th>person_age</th>\n",
       "      <th>person_income</th>\n",
       "      <th>person_home_ownership</th>\n",
       "      <th>person_emp_length</th>\n",
       "      <th>loan_intent</th>\n",
       "      <th>loan_grade</th>\n",
       "      <th>loan_amnt</th>\n",
       "      <th>loan_int_rate</th>\n",
       "      <th>loan_status</th>\n",
       "      <th>loan_percent_income</th>\n",
       "      <th>cb_person_default_on_file</th>\n",
       "      <th>cb_person_cred_hist_length</th>\n",
       "    </tr>\n",
       "  </thead>\n",
       "  <tbody>\n",
       "    <tr>\n",
       "      <th>0</th>\n",
       "      <td>26967</td>\n",
       "      <td>27</td>\n",
       "      <td>120000</td>\n",
       "      <td>MORTGAGE</td>\n",
       "      <td>3.0</td>\n",
       "      <td>PERSONAL</td>\n",
       "      <td>B</td>\n",
       "      <td>14000</td>\n",
       "      <td>11.99</td>\n",
       "      <td>0</td>\n",
       "      <td>0.12</td>\n",
       "      <td>N</td>\n",
       "      <td>10</td>\n",
       "    </tr>\n",
       "    <tr>\n",
       "      <th>1</th>\n",
       "      <td>8449</td>\n",
       "      <td>24</td>\n",
       "      <td>58000</td>\n",
       "      <td>MORTGAGE</td>\n",
       "      <td>8.0</td>\n",
       "      <td>DEBTCONSOLIDATION</td>\n",
       "      <td>A</td>\n",
       "      <td>15700</td>\n",
       "      <td>7.90</td>\n",
       "      <td>0</td>\n",
       "      <td>0.27</td>\n",
       "      <td>N</td>\n",
       "      <td>3</td>\n",
       "    </tr>\n",
       "    <tr>\n",
       "      <th>2</th>\n",
       "      <td>20983</td>\n",
       "      <td>30</td>\n",
       "      <td>45000</td>\n",
       "      <td>RENT</td>\n",
       "      <td>11.0</td>\n",
       "      <td>MEDICAL</td>\n",
       "      <td>C</td>\n",
       "      <td>5000</td>\n",
       "      <td>12.73</td>\n",
       "      <td>1</td>\n",
       "      <td>0.11</td>\n",
       "      <td>Y</td>\n",
       "      <td>8</td>\n",
       "    </tr>\n",
       "    <tr>\n",
       "      <th>3</th>\n",
       "      <td>19612</td>\n",
       "      <td>35</td>\n",
       "      <td>35000</td>\n",
       "      <td>MORTGAGE</td>\n",
       "      <td>5.0</td>\n",
       "      <td>EDUCATION</td>\n",
       "      <td>B</td>\n",
       "      <td>5600</td>\n",
       "      <td>11.49</td>\n",
       "      <td>0</td>\n",
       "      <td>0.16</td>\n",
       "      <td>N</td>\n",
       "      <td>6</td>\n",
       "    </tr>\n",
       "    <tr>\n",
       "      <th>4</th>\n",
       "      <td>30371</td>\n",
       "      <td>38</td>\n",
       "      <td>55000</td>\n",
       "      <td>RENT</td>\n",
       "      <td>0.0</td>\n",
       "      <td>EDUCATION</td>\n",
       "      <td>C</td>\n",
       "      <td>6500</td>\n",
       "      <td>11.03</td>\n",
       "      <td>0</td>\n",
       "      <td>0.12</td>\n",
       "      <td>Y</td>\n",
       "      <td>12</td>\n",
       "    </tr>\n",
       "  </tbody>\n",
       "</table>\n",
       "</div>"
      ],
      "text/plain": [
       "   Unnamed: 0  person_age  person_income person_home_ownership  \\\n",
       "0       26967          27         120000              MORTGAGE   \n",
       "1        8449          24          58000              MORTGAGE   \n",
       "2       20983          30          45000                  RENT   \n",
       "3       19612          35          35000              MORTGAGE   \n",
       "4       30371          38          55000                  RENT   \n",
       "\n",
       "   person_emp_length        loan_intent loan_grade  loan_amnt  loan_int_rate  \\\n",
       "0                3.0           PERSONAL          B      14000          11.99   \n",
       "1                8.0  DEBTCONSOLIDATION          A      15700           7.90   \n",
       "2               11.0            MEDICAL          C       5000          12.73   \n",
       "3                5.0          EDUCATION          B       5600          11.49   \n",
       "4                0.0          EDUCATION          C       6500          11.03   \n",
       "\n",
       "   loan_status  loan_percent_income cb_person_default_on_file  \\\n",
       "0            0                 0.12                         N   \n",
       "1            0                 0.27                         N   \n",
       "2            1                 0.11                         Y   \n",
       "3            0                 0.16                         N   \n",
       "4            0                 0.12                         Y   \n",
       "\n",
       "   cb_person_cred_hist_length  \n",
       "0                          10  \n",
       "1                           3  \n",
       "2                           8  \n",
       "3                           6  \n",
       "4                          12  "
      ]
     },
     "execution_count": 46,
     "metadata": {},
     "output_type": "execute_result"
    }
   ],
   "source": [
    "df = pd.read_csv(\"train.csv\")\n",
    "df.head()"
   ]
  },
  {
   "cell_type": "markdown",
   "metadata": {},
   "source": [
    "### Accuracy Test\n",
    "\n",
    "Replace the green part with whatever you need to transform the fresh data into the format needed for your model to predict. \n",
    "\n",
    "<b>Note:</b> you could test and make sure that things are working OK here by taking part of your dataset, saving it in a separate CSV, and running it through here as a piece of test data. The accuracy results would be useless, but you'd confirm that the model works properly. "
   ]
  },
  {
   "cell_type": "code",
   "execution_count": 47,
   "metadata": {},
   "outputs": [
    {
     "name": "stdout",
     "output_type": "stream",
     "text": [
      "<class 'pandas.core.frame.DataFrame'>\n",
      "RangeIndex: 26064 entries, 0 to 26063\n",
      "Data columns (total 13 columns):\n",
      " #   Column                      Non-Null Count  Dtype  \n",
      "---  ------                      --------------  -----  \n",
      " 0   Unnamed: 0                  26064 non-null  int64  \n",
      " 1   person_age                  26064 non-null  int64  \n",
      " 2   person_income               26064 non-null  int64  \n",
      " 3   person_home_ownership       26064 non-null  object \n",
      " 4   person_emp_length           25350 non-null  float64\n",
      " 5   loan_intent                 26064 non-null  object \n",
      " 6   loan_grade                  26064 non-null  object \n",
      " 7   loan_amnt                   26064 non-null  int64  \n",
      " 8   loan_int_rate               23575 non-null  float64\n",
      " 9   loan_status                 26064 non-null  int64  \n",
      " 10  loan_percent_income         26064 non-null  float64\n",
      " 11  cb_person_default_on_file   26064 non-null  object \n",
      " 12  cb_person_cred_hist_length  26064 non-null  int64  \n",
      "dtypes: float64(3), int64(6), object(4)\n",
      "memory usage: 2.6+ MB\n"
     ]
    }
   ],
   "source": [
    "#Get some info\n",
    "df.info()"
   ]
  },
  {
   "cell_type": "code",
   "execution_count": null,
   "metadata": {},
   "outputs": [],
   "source": []
  },
  {
   "cell_type": "code",
   "execution_count": 48,
   "metadata": {},
   "outputs": [],
   "source": [
    "#df = df[df[\"loan_status \"]!=\"?\"]\n",
    "\n",
    "#df['person_home_ownership ']=df['person_home_ownership'].astype('category')\n",
    "#df['loan_intent']=df['loan_intent'].astype('category')\n",
    "#df['loan_grade ']=df['loan_grade '].astype('category')\n",
    "#df['cb_person_default_on_file']=df['cb_person_default_on_file'].astype('category')\n",
    "#df['loan_status']=df['loan_status'].astype('category')\n",
    "#df.info()"
   ]
  },
  {
   "cell_type": "code",
   "execution_count": 49,
   "metadata": {},
   "outputs": [
    {
     "data": {
      "text/html": [
       "<div>\n",
       "<style scoped>\n",
       "    .dataframe tbody tr th:only-of-type {\n",
       "        vertical-align: middle;\n",
       "    }\n",
       "\n",
       "    .dataframe tbody tr th {\n",
       "        vertical-align: top;\n",
       "    }\n",
       "\n",
       "    .dataframe thead th {\n",
       "        text-align: right;\n",
       "    }\n",
       "</style>\n",
       "<table border=\"1\" class=\"dataframe\">\n",
       "  <thead>\n",
       "    <tr style=\"text-align: right;\">\n",
       "      <th></th>\n",
       "      <th>Unnamed: 0</th>\n",
       "      <th>person_age</th>\n",
       "      <th>person_income</th>\n",
       "      <th>person_home_ownership</th>\n",
       "      <th>person_emp_length</th>\n",
       "      <th>loan_intent</th>\n",
       "      <th>loan_grade</th>\n",
       "      <th>loan_amnt</th>\n",
       "      <th>loan_int_rate</th>\n",
       "      <th>loan_status</th>\n",
       "      <th>loan_percent_income</th>\n",
       "      <th>cb_person_default_on_file</th>\n",
       "      <th>cb_person_cred_hist_length</th>\n",
       "    </tr>\n",
       "  </thead>\n",
       "  <tbody>\n",
       "    <tr>\n",
       "      <th>0</th>\n",
       "      <td>26967</td>\n",
       "      <td>27</td>\n",
       "      <td>120000</td>\n",
       "      <td>MORTGAGE</td>\n",
       "      <td>3.0</td>\n",
       "      <td>PERSONAL</td>\n",
       "      <td>B</td>\n",
       "      <td>14000</td>\n",
       "      <td>11.99</td>\n",
       "      <td>0</td>\n",
       "      <td>0.12</td>\n",
       "      <td>N</td>\n",
       "      <td>10</td>\n",
       "    </tr>\n",
       "    <tr>\n",
       "      <th>1</th>\n",
       "      <td>8449</td>\n",
       "      <td>24</td>\n",
       "      <td>58000</td>\n",
       "      <td>MORTGAGE</td>\n",
       "      <td>8.0</td>\n",
       "      <td>DEBTCONSOLIDATION</td>\n",
       "      <td>A</td>\n",
       "      <td>15700</td>\n",
       "      <td>7.90</td>\n",
       "      <td>0</td>\n",
       "      <td>0.27</td>\n",
       "      <td>N</td>\n",
       "      <td>3</td>\n",
       "    </tr>\n",
       "    <tr>\n",
       "      <th>2</th>\n",
       "      <td>20983</td>\n",
       "      <td>30</td>\n",
       "      <td>45000</td>\n",
       "      <td>RENT</td>\n",
       "      <td>11.0</td>\n",
       "      <td>MEDICAL</td>\n",
       "      <td>C</td>\n",
       "      <td>5000</td>\n",
       "      <td>12.73</td>\n",
       "      <td>1</td>\n",
       "      <td>0.11</td>\n",
       "      <td>Y</td>\n",
       "      <td>8</td>\n",
       "    </tr>\n",
       "    <tr>\n",
       "      <th>3</th>\n",
       "      <td>19612</td>\n",
       "      <td>35</td>\n",
       "      <td>35000</td>\n",
       "      <td>MORTGAGE</td>\n",
       "      <td>5.0</td>\n",
       "      <td>EDUCATION</td>\n",
       "      <td>B</td>\n",
       "      <td>5600</td>\n",
       "      <td>11.49</td>\n",
       "      <td>0</td>\n",
       "      <td>0.16</td>\n",
       "      <td>N</td>\n",
       "      <td>6</td>\n",
       "    </tr>\n",
       "    <tr>\n",
       "      <th>4</th>\n",
       "      <td>30371</td>\n",
       "      <td>38</td>\n",
       "      <td>55000</td>\n",
       "      <td>RENT</td>\n",
       "      <td>0.0</td>\n",
       "      <td>EDUCATION</td>\n",
       "      <td>C</td>\n",
       "      <td>6500</td>\n",
       "      <td>11.03</td>\n",
       "      <td>0</td>\n",
       "      <td>0.12</td>\n",
       "      <td>Y</td>\n",
       "      <td>12</td>\n",
       "    </tr>\n",
       "  </tbody>\n",
       "</table>\n",
       "</div>"
      ],
      "text/plain": [
       "   Unnamed: 0  person_age  person_income person_home_ownership  \\\n",
       "0       26967          27         120000              MORTGAGE   \n",
       "1        8449          24          58000              MORTGAGE   \n",
       "2       20983          30          45000                  RENT   \n",
       "3       19612          35          35000              MORTGAGE   \n",
       "4       30371          38          55000                  RENT   \n",
       "\n",
       "   person_emp_length        loan_intent loan_grade  loan_amnt  loan_int_rate  \\\n",
       "0                3.0           PERSONAL          B      14000          11.99   \n",
       "1                8.0  DEBTCONSOLIDATION          A      15700           7.90   \n",
       "2               11.0            MEDICAL          C       5000          12.73   \n",
       "3                5.0          EDUCATION          B       5600          11.49   \n",
       "4                0.0          EDUCATION          C       6500          11.03   \n",
       "\n",
       "   loan_status  loan_percent_income cb_person_default_on_file  \\\n",
       "0            0                 0.12                         N   \n",
       "1            0                 0.27                         N   \n",
       "2            1                 0.11                         Y   \n",
       "3            0                 0.16                         N   \n",
       "4            0                 0.12                         Y   \n",
       "\n",
       "   cb_person_cred_hist_length  \n",
       "0                          10  \n",
       "1                           3  \n",
       "2                           8  \n",
       "3                           6  \n",
       "4                          12  "
      ]
     },
     "execution_count": 49,
     "metadata": {},
     "output_type": "execute_result"
    }
   ],
   "source": [
    "df.head()"
   ]
  },
  {
   "cell_type": "code",
   "execution_count": 50,
   "metadata": {},
   "outputs": [],
   "source": [
    "#df=df[df['person_emp_length']>10]\n",
    "#df=df[df['person_emp_length']<20]\n",
    "#df=df[df[\"person_age\"]>30]\n",
    "#df=df[df[\"person_age\"]<40]\n",
    "#df=df[df[\"person_income\"]>100000]\n",
    "#df=df[df[\"person_income\"]<150000]\n",
    "#df.describe()\n"
   ]
  },
  {
   "cell_type": "code",
   "execution_count": 51,
   "metadata": {},
   "outputs": [],
   "source": [
    "#visualize pairplot\n",
    "#sns.pairplot(df)"
   ]
  },
  {
   "cell_type": "markdown",
   "metadata": {},
   "source": [
    "Collinearity between Loan_amnt and Loan_percent_income"
   ]
  },
  {
   "cell_type": "code",
   "execution_count": 52,
   "metadata": {},
   "outputs": [
    {
     "data": {
      "text/html": [
       "<div>\n",
       "<style scoped>\n",
       "    .dataframe tbody tr th:only-of-type {\n",
       "        vertical-align: middle;\n",
       "    }\n",
       "\n",
       "    .dataframe tbody tr th {\n",
       "        vertical-align: top;\n",
       "    }\n",
       "\n",
       "    .dataframe thead th {\n",
       "        text-align: right;\n",
       "    }\n",
       "</style>\n",
       "<table border=\"1\" class=\"dataframe\">\n",
       "  <thead>\n",
       "    <tr style=\"text-align: right;\">\n",
       "      <th></th>\n",
       "      <th>Unnamed: 0</th>\n",
       "      <th>person_age</th>\n",
       "      <th>person_income</th>\n",
       "      <th>person_home_ownership</th>\n",
       "      <th>person_emp_length</th>\n",
       "      <th>loan_intent</th>\n",
       "      <th>loan_grade</th>\n",
       "      <th>loan_amnt</th>\n",
       "      <th>loan_int_rate</th>\n",
       "      <th>loan_status</th>\n",
       "      <th>loan_percent_income</th>\n",
       "      <th>cb_person_default_on_file</th>\n",
       "      <th>cb_person_cred_hist_length</th>\n",
       "    </tr>\n",
       "  </thead>\n",
       "  <tbody>\n",
       "    <tr>\n",
       "      <th>0</th>\n",
       "      <td>26967</td>\n",
       "      <td>27</td>\n",
       "      <td>120000</td>\n",
       "      <td>MORTGAGE</td>\n",
       "      <td>3.0</td>\n",
       "      <td>PERSONAL</td>\n",
       "      <td>B</td>\n",
       "      <td>14000</td>\n",
       "      <td>11.99</td>\n",
       "      <td>0</td>\n",
       "      <td>0.12</td>\n",
       "      <td>N</td>\n",
       "      <td>10</td>\n",
       "    </tr>\n",
       "  </tbody>\n",
       "</table>\n",
       "</div>"
      ],
      "text/plain": [
       "   Unnamed: 0  person_age  person_income person_home_ownership  \\\n",
       "0       26967          27         120000              MORTGAGE   \n",
       "\n",
       "   person_emp_length loan_intent loan_grade  loan_amnt  loan_int_rate  \\\n",
       "0                3.0    PERSONAL          B      14000          11.99   \n",
       "\n",
       "   loan_status  loan_percent_income cb_person_default_on_file  \\\n",
       "0            0                 0.12                         N   \n",
       "\n",
       "   cb_person_cred_hist_length  \n",
       "0                          10  "
      ]
     },
     "execution_count": 52,
     "metadata": {},
     "output_type": "execute_result"
    }
   ],
   "source": [
    "df.head(1)"
   ]
  },
  {
   "cell_type": "code",
   "execution_count": 53,
   "metadata": {},
   "outputs": [],
   "source": [
    "#Print boxplots - we'll put them in subplots to make it look fancy\n",
    "#Countplots are basically categorical hists - we could've used a hist as well\n",
    "#fig, ax = plt.subplots(nrows=2,ncols=2,figsize=(20,12))\n",
    "#fig.suptitle(\"Categorical Plotting\", fontsize=20)\n",
    "#sns.boxplot(x=\"person_home_ownership\", y=\"loan_status\", data=df,ax=ax[0,0])\n",
    "#sns.boxplot(x=\"loan_intent\", y=\"loan_status\", data=df,ax=ax[0,1])\n",
    "#sns.countplot(x=\"person_home_ownership\", data=df,ax=ax[1,0])\n",
    "#sns.countplot(x=\"loan_intent\", data=df,ax=ax[1,1])"
   ]
  },
  {
   "cell_type": "code",
   "execution_count": 54,
   "metadata": {},
   "outputs": [
    {
     "name": "stderr",
     "output_type": "stream",
     "text": [
      "C:\\Users\\shikh\\AppData\\Local\\Temp\\ipykernel_27540\\527883699.py:4: FutureWarning: this method is deprecated in favour of `Styler.format(precision=..)`\n",
      "  corr.style.background_gradient().set_precision(2)\n"
     ]
    },
    {
     "data": {
      "text/html": [
       "<style type=\"text/css\">\n",
       "#T_4f012_row0_col0, #T_4f012_row1_col1, #T_4f012_row2_col2, #T_4f012_row3_col3, #T_4f012_row4_col4, #T_4f012_row5_col5, #T_4f012_row6_col6, #T_4f012_row7_col7, #T_4f012_row8_col8 {\n",
       "  background-color: #023858;\n",
       "  color: #f1f1f1;\n",
       "}\n",
       "#T_4f012_row0_col1 {\n",
       "  background-color: #0872b1;\n",
       "  color: #f1f1f1;\n",
       "}\n",
       "#T_4f012_row0_col2 {\n",
       "  background-color: #b4c4df;\n",
       "  color: #000000;\n",
       "}\n",
       "#T_4f012_row0_col3 {\n",
       "  background-color: #d0d1e6;\n",
       "  color: #000000;\n",
       "}\n",
       "#T_4f012_row0_col4, #T_4f012_row5_col0 {\n",
       "  background-color: #f5eff6;\n",
       "  color: #000000;\n",
       "}\n",
       "#T_4f012_row0_col5, #T_4f012_row2_col5, #T_4f012_row5_col1, #T_4f012_row5_col8 {\n",
       "  background-color: #f8f1f8;\n",
       "  color: #000000;\n",
       "}\n",
       "#T_4f012_row0_col6 {\n",
       "  background-color: #f5eef6;\n",
       "  color: #000000;\n",
       "}\n",
       "#T_4f012_row0_col7 {\n",
       "  background-color: #e8e4f0;\n",
       "  color: #000000;\n",
       "}\n",
       "#T_4f012_row0_col8 {\n",
       "  background-color: #056ba7;\n",
       "  color: #f1f1f1;\n",
       "}\n",
       "#T_4f012_row1_col0 {\n",
       "  background-color: #0570b0;\n",
       "  color: #f1f1f1;\n",
       "}\n",
       "#T_4f012_row1_col2 {\n",
       "  background-color: #b1c2de;\n",
       "  color: #000000;\n",
       "}\n",
       "#T_4f012_row1_col3, #T_4f012_row2_col0 {\n",
       "  background-color: #d6d6e9;\n",
       "  color: #000000;\n",
       "}\n",
       "#T_4f012_row1_col4, #T_4f012_row6_col0 {\n",
       "  background-color: #fef6fa;\n",
       "  color: #000000;\n",
       "}\n",
       "#T_4f012_row1_col5, #T_4f012_row3_col6 {\n",
       "  background-color: #f7f0f7;\n",
       "  color: #000000;\n",
       "}\n",
       "#T_4f012_row1_col6 {\n",
       "  background-color: #f0eaf4;\n",
       "  color: #000000;\n",
       "}\n",
       "#T_4f012_row1_col7, #T_4f012_row4_col0 {\n",
       "  background-color: #e4e1ef;\n",
       "  color: #000000;\n",
       "}\n",
       "#T_4f012_row1_col8 {\n",
       "  background-color: #045d92;\n",
       "  color: #f1f1f1;\n",
       "}\n",
       "#T_4f012_row2_col1, #T_4f012_row4_col6 {\n",
       "  background-color: #d8d7e9;\n",
       "  color: #000000;\n",
       "}\n",
       "#T_4f012_row2_col3, #T_4f012_row5_col2 {\n",
       "  background-color: #dcdaeb;\n",
       "  color: #000000;\n",
       "}\n",
       "#T_4f012_row2_col4 {\n",
       "  background-color: #d3d4e7;\n",
       "  color: #000000;\n",
       "}\n",
       "#T_4f012_row2_col6, #T_4f012_row2_col7, #T_4f012_row3_col5, #T_4f012_row6_col3, #T_4f012_row7_col0, #T_4f012_row7_col1, #T_4f012_row7_col2, #T_4f012_row7_col8, #T_4f012_row8_col4 {\n",
       "  background-color: #fff7fb;\n",
       "  color: #000000;\n",
       "}\n",
       "#T_4f012_row2_col8 {\n",
       "  background-color: #e7e3f0;\n",
       "  color: #000000;\n",
       "}\n",
       "#T_4f012_row3_col0 {\n",
       "  background-color: #d2d2e7;\n",
       "  color: #000000;\n",
       "}\n",
       "#T_4f012_row3_col1 {\n",
       "  background-color: #dbdaeb;\n",
       "  color: #000000;\n",
       "}\n",
       "#T_4f012_row3_col2 {\n",
       "  background-color: #bdc8e1;\n",
       "  color: #000000;\n",
       "}\n",
       "#T_4f012_row3_col4 {\n",
       "  background-color: #f4edf6;\n",
       "  color: #000000;\n",
       "}\n",
       "#T_4f012_row3_col7 {\n",
       "  background-color: #e6e2ef;\n",
       "  color: #000000;\n",
       "}\n",
       "#T_4f012_row3_col8 {\n",
       "  background-color: #e1dfed;\n",
       "  color: #000000;\n",
       "}\n",
       "#T_4f012_row4_col1 {\n",
       "  background-color: #f1ebf5;\n",
       "  color: #000000;\n",
       "}\n",
       "#T_4f012_row4_col2 {\n",
       "  background-color: #97b7d7;\n",
       "  color: #000000;\n",
       "}\n",
       "#T_4f012_row4_col3 {\n",
       "  background-color: #e0deed;\n",
       "  color: #000000;\n",
       "}\n",
       "#T_4f012_row4_col5 {\n",
       "  background-color: #dedcec;\n",
       "  color: #000000;\n",
       "}\n",
       "#T_4f012_row4_col7 {\n",
       "  background-color: #2987bc;\n",
       "  color: #f1f1f1;\n",
       "}\n",
       "#T_4f012_row4_col8, #T_4f012_row6_col4 {\n",
       "  background-color: #f4eef6;\n",
       "  color: #000000;\n",
       "}\n",
       "#T_4f012_row5_col3, #T_4f012_row7_col3 {\n",
       "  background-color: #fbf4f9;\n",
       "  color: #000000;\n",
       "}\n",
       "#T_4f012_row5_col4 {\n",
       "  background-color: #eee8f3;\n",
       "  color: #000000;\n",
       "}\n",
       "#T_4f012_row5_col6 {\n",
       "  background-color: #94b6d7;\n",
       "  color: #000000;\n",
       "}\n",
       "#T_4f012_row5_col7 {\n",
       "  background-color: #c0c9e2;\n",
       "  color: #000000;\n",
       "}\n",
       "#T_4f012_row6_col1 {\n",
       "  background-color: #fcf4fa;\n",
       "  color: #000000;\n",
       "}\n",
       "#T_4f012_row6_col2 {\n",
       "  background-color: #f2ecf5;\n",
       "  color: #000000;\n",
       "}\n",
       "#T_4f012_row6_col5 {\n",
       "  background-color: #a7bddb;\n",
       "  color: #000000;\n",
       "}\n",
       "#T_4f012_row6_col7 {\n",
       "  background-color: #71a8ce;\n",
       "  color: #f1f1f1;\n",
       "}\n",
       "#T_4f012_row6_col8 {\n",
       "  background-color: #fdf5fa;\n",
       "  color: #000000;\n",
       "}\n",
       "#T_4f012_row7_col4 {\n",
       "  background-color: #5a9ec9;\n",
       "  color: #f1f1f1;\n",
       "}\n",
       "#T_4f012_row7_col5 {\n",
       "  background-color: #e3e0ee;\n",
       "  color: #000000;\n",
       "}\n",
       "#T_4f012_row7_col6 {\n",
       "  background-color: #86b0d3;\n",
       "  color: #000000;\n",
       "}\n",
       "#T_4f012_row8_col0 {\n",
       "  background-color: #0569a5;\n",
       "  color: #f1f1f1;\n",
       "}\n",
       "#T_4f012_row8_col1 {\n",
       "  background-color: #045c90;\n",
       "  color: #f1f1f1;\n",
       "}\n",
       "#T_4f012_row8_col2 {\n",
       "  background-color: #c2cbe2;\n",
       "  color: #000000;\n",
       "}\n",
       "#T_4f012_row8_col3 {\n",
       "  background-color: #d9d8ea;\n",
       "  color: #000000;\n",
       "}\n",
       "#T_4f012_row8_col5 {\n",
       "  background-color: #f6eff7;\n",
       "  color: #000000;\n",
       "}\n",
       "#T_4f012_row8_col6 {\n",
       "  background-color: #efe9f3;\n",
       "  color: #000000;\n",
       "}\n",
       "#T_4f012_row8_col7 {\n",
       "  background-color: #e2dfee;\n",
       "  color: #000000;\n",
       "}\n",
       "</style>\n",
       "<table id=\"T_4f012\">\n",
       "  <thead>\n",
       "    <tr>\n",
       "      <th class=\"blank level0\" >&nbsp;</th>\n",
       "      <th id=\"T_4f012_level0_col0\" class=\"col_heading level0 col0\" >Unnamed: 0</th>\n",
       "      <th id=\"T_4f012_level0_col1\" class=\"col_heading level0 col1\" >person_age</th>\n",
       "      <th id=\"T_4f012_level0_col2\" class=\"col_heading level0 col2\" >person_income</th>\n",
       "      <th id=\"T_4f012_level0_col3\" class=\"col_heading level0 col3\" >person_emp_length</th>\n",
       "      <th id=\"T_4f012_level0_col4\" class=\"col_heading level0 col4\" >loan_amnt</th>\n",
       "      <th id=\"T_4f012_level0_col5\" class=\"col_heading level0 col5\" >loan_int_rate</th>\n",
       "      <th id=\"T_4f012_level0_col6\" class=\"col_heading level0 col6\" >loan_status</th>\n",
       "      <th id=\"T_4f012_level0_col7\" class=\"col_heading level0 col7\" >loan_percent_income</th>\n",
       "      <th id=\"T_4f012_level0_col8\" class=\"col_heading level0 col8\" >cb_person_cred_hist_length</th>\n",
       "    </tr>\n",
       "  </thead>\n",
       "  <tbody>\n",
       "    <tr>\n",
       "      <th id=\"T_4f012_level0_row0\" class=\"row_heading level0 row0\" >Unnamed: 0</th>\n",
       "      <td id=\"T_4f012_row0_col0\" class=\"data row0 col0\" >1.00</td>\n",
       "      <td id=\"T_4f012_row0_col1\" class=\"data row0 col1\" >0.73</td>\n",
       "      <td id=\"T_4f012_row0_col2\" class=\"data row0 col2\" >0.17</td>\n",
       "      <td id=\"T_4f012_row0_col3\" class=\"data row0 col3\" >0.19</td>\n",
       "      <td id=\"T_4f012_row0_col4\" class=\"data row0 col4\" >0.10</td>\n",
       "      <td id=\"T_4f012_row0_col5\" class=\"data row0 col5\" >-0.00</td>\n",
       "      <td id=\"T_4f012_row0_col6\" class=\"data row0 col6\" >-0.06</td>\n",
       "      <td id=\"T_4f012_row0_col7\" class=\"data row0 col7\" >-0.07</td>\n",
       "      <td id=\"T_4f012_row0_col8\" class=\"data row0 col8\" >0.77</td>\n",
       "    </tr>\n",
       "    <tr>\n",
       "      <th id=\"T_4f012_level0_row1\" class=\"row_heading level0 row1\" >person_age</th>\n",
       "      <td id=\"T_4f012_row1_col0\" class=\"data row1 col0\" >0.73</td>\n",
       "      <td id=\"T_4f012_row1_col1\" class=\"data row1 col1\" >1.00</td>\n",
       "      <td id=\"T_4f012_row1_col2\" class=\"data row1 col2\" >0.18</td>\n",
       "      <td id=\"T_4f012_row1_col3\" class=\"data row1 col3\" >0.16</td>\n",
       "      <td id=\"T_4f012_row1_col4\" class=\"data row1 col4\" >0.05</td>\n",
       "      <td id=\"T_4f012_row1_col5\" class=\"data row1 col5\" >0.00</td>\n",
       "      <td id=\"T_4f012_row1_col6\" class=\"data row1 col6\" >-0.02</td>\n",
       "      <td id=\"T_4f012_row1_col7\" class=\"data row1 col7\" >-0.05</td>\n",
       "      <td id=\"T_4f012_row1_col8\" class=\"data row1 col8\" >0.85</td>\n",
       "    </tr>\n",
       "    <tr>\n",
       "      <th id=\"T_4f012_level0_row2\" class=\"row_heading level0 row2\" >person_income</th>\n",
       "      <td id=\"T_4f012_row2_col0\" class=\"data row2 col0\" >0.17</td>\n",
       "      <td id=\"T_4f012_row2_col1\" class=\"data row2 col1\" >0.18</td>\n",
       "      <td id=\"T_4f012_row2_col2\" class=\"data row2 col2\" >1.00</td>\n",
       "      <td id=\"T_4f012_row2_col3\" class=\"data row2 col3\" >0.13</td>\n",
       "      <td id=\"T_4f012_row2_col4\" class=\"data row2 col4\" >0.27</td>\n",
       "      <td id=\"T_4f012_row2_col5\" class=\"data row2 col5\" >-0.00</td>\n",
       "      <td id=\"T_4f012_row2_col6\" class=\"data row2 col6\" >-0.14</td>\n",
       "      <td id=\"T_4f012_row2_col7\" class=\"data row2 col7\" >-0.25</td>\n",
       "      <td id=\"T_4f012_row2_col8\" class=\"data row2 col8\" >0.11</td>\n",
       "    </tr>\n",
       "    <tr>\n",
       "      <th id=\"T_4f012_level0_row3\" class=\"row_heading level0 row3\" >person_emp_length</th>\n",
       "      <td id=\"T_4f012_row3_col0\" class=\"data row3 col0\" >0.19</td>\n",
       "      <td id=\"T_4f012_row3_col1\" class=\"data row3 col1\" >0.16</td>\n",
       "      <td id=\"T_4f012_row3_col2\" class=\"data row3 col2\" >0.13</td>\n",
       "      <td id=\"T_4f012_row3_col3\" class=\"data row3 col3\" >1.00</td>\n",
       "      <td id=\"T_4f012_row3_col4\" class=\"data row3 col4\" >0.11</td>\n",
       "      <td id=\"T_4f012_row3_col5\" class=\"data row3 col5\" >-0.05</td>\n",
       "      <td id=\"T_4f012_row3_col6\" class=\"data row3 col6\" >-0.08</td>\n",
       "      <td id=\"T_4f012_row3_col7\" class=\"data row3 col7\" >-0.06</td>\n",
       "      <td id=\"T_4f012_row3_col8\" class=\"data row3 col8\" >0.14</td>\n",
       "    </tr>\n",
       "    <tr>\n",
       "      <th id=\"T_4f012_level0_row4\" class=\"row_heading level0 row4\" >loan_amnt</th>\n",
       "      <td id=\"T_4f012_row4_col0\" class=\"data row4 col0\" >0.10</td>\n",
       "      <td id=\"T_4f012_row4_col1\" class=\"data row4 col1\" >0.05</td>\n",
       "      <td id=\"T_4f012_row4_col2\" class=\"data row4 col2\" >0.27</td>\n",
       "      <td id=\"T_4f012_row4_col3\" class=\"data row4 col3\" >0.11</td>\n",
       "      <td id=\"T_4f012_row4_col4\" class=\"data row4 col4\" >1.00</td>\n",
       "      <td id=\"T_4f012_row4_col5\" class=\"data row4 col5\" >0.15</td>\n",
       "      <td id=\"T_4f012_row4_col6\" class=\"data row4 col6\" >0.11</td>\n",
       "      <td id=\"T_4f012_row4_col7\" class=\"data row4 col7\" >0.57</td>\n",
       "      <td id=\"T_4f012_row4_col8\" class=\"data row4 col8\" >0.04</td>\n",
       "    </tr>\n",
       "    <tr>\n",
       "      <th id=\"T_4f012_level0_row5\" class=\"row_heading level0 row5\" >loan_int_rate</th>\n",
       "      <td id=\"T_4f012_row5_col0\" class=\"data row5 col0\" >-0.00</td>\n",
       "      <td id=\"T_4f012_row5_col1\" class=\"data row5 col1\" >0.00</td>\n",
       "      <td id=\"T_4f012_row5_col2\" class=\"data row5 col2\" >-0.00</td>\n",
       "      <td id=\"T_4f012_row5_col3\" class=\"data row5 col3\" >-0.05</td>\n",
       "      <td id=\"T_4f012_row5_col4\" class=\"data row5 col4\" >0.15</td>\n",
       "      <td id=\"T_4f012_row5_col5\" class=\"data row5 col5\" >1.00</td>\n",
       "      <td id=\"T_4f012_row5_col6\" class=\"data row5 col6\" >0.34</td>\n",
       "      <td id=\"T_4f012_row5_col7\" class=\"data row5 col7\" >0.12</td>\n",
       "      <td id=\"T_4f012_row5_col8\" class=\"data row5 col8\" >0.01</td>\n",
       "    </tr>\n",
       "    <tr>\n",
       "      <th id=\"T_4f012_level0_row6\" class=\"row_heading level0 row6\" >loan_status</th>\n",
       "      <td id=\"T_4f012_row6_col0\" class=\"data row6 col0\" >-0.06</td>\n",
       "      <td id=\"T_4f012_row6_col1\" class=\"data row6 col1\" >-0.02</td>\n",
       "      <td id=\"T_4f012_row6_col2\" class=\"data row6 col2\" >-0.14</td>\n",
       "      <td id=\"T_4f012_row6_col3\" class=\"data row6 col3\" >-0.08</td>\n",
       "      <td id=\"T_4f012_row6_col4\" class=\"data row6 col4\" >0.11</td>\n",
       "      <td id=\"T_4f012_row6_col5\" class=\"data row6 col5\" >0.34</td>\n",
       "      <td id=\"T_4f012_row6_col6\" class=\"data row6 col6\" >1.00</td>\n",
       "      <td id=\"T_4f012_row6_col7\" class=\"data row6 col7\" >0.38</td>\n",
       "      <td id=\"T_4f012_row6_col8\" class=\"data row6 col8\" >-0.02</td>\n",
       "    </tr>\n",
       "    <tr>\n",
       "      <th id=\"T_4f012_level0_row7\" class=\"row_heading level0 row7\" >loan_percent_income</th>\n",
       "      <td id=\"T_4f012_row7_col0\" class=\"data row7 col0\" >-0.07</td>\n",
       "      <td id=\"T_4f012_row7_col1\" class=\"data row7 col1\" >-0.05</td>\n",
       "      <td id=\"T_4f012_row7_col2\" class=\"data row7 col2\" >-0.25</td>\n",
       "      <td id=\"T_4f012_row7_col3\" class=\"data row7 col3\" >-0.06</td>\n",
       "      <td id=\"T_4f012_row7_col4\" class=\"data row7 col4\" >0.57</td>\n",
       "      <td id=\"T_4f012_row7_col5\" class=\"data row7 col5\" >0.12</td>\n",
       "      <td id=\"T_4f012_row7_col6\" class=\"data row7 col6\" >0.38</td>\n",
       "      <td id=\"T_4f012_row7_col7\" class=\"data row7 col7\" >1.00</td>\n",
       "      <td id=\"T_4f012_row7_col8\" class=\"data row7 col8\" >-0.04</td>\n",
       "    </tr>\n",
       "    <tr>\n",
       "      <th id=\"T_4f012_level0_row8\" class=\"row_heading level0 row8\" >cb_person_cred_hist_length</th>\n",
       "      <td id=\"T_4f012_row8_col0\" class=\"data row8 col0\" >0.77</td>\n",
       "      <td id=\"T_4f012_row8_col1\" class=\"data row8 col1\" >0.85</td>\n",
       "      <td id=\"T_4f012_row8_col2\" class=\"data row8 col2\" >0.11</td>\n",
       "      <td id=\"T_4f012_row8_col3\" class=\"data row8 col3\" >0.14</td>\n",
       "      <td id=\"T_4f012_row8_col4\" class=\"data row8 col4\" >0.04</td>\n",
       "      <td id=\"T_4f012_row8_col5\" class=\"data row8 col5\" >0.01</td>\n",
       "      <td id=\"T_4f012_row8_col6\" class=\"data row8 col6\" >-0.02</td>\n",
       "      <td id=\"T_4f012_row8_col7\" class=\"data row8 col7\" >-0.04</td>\n",
       "      <td id=\"T_4f012_row8_col8\" class=\"data row8 col8\" >1.00</td>\n",
       "    </tr>\n",
       "  </tbody>\n",
       "</table>\n"
      ],
      "text/plain": [
       "<pandas.io.formats.style.Styler at 0x190cdacc6a0>"
      ]
     },
     "execution_count": 54,
     "metadata": {},
     "output_type": "execute_result"
    }
   ],
   "source": [
    "## Correlation Matrix\n",
    "corr = df.corr()\n",
    "corr.style.background_gradient()\n",
    "corr.style.background_gradient().set_precision(2)"
   ]
  },
  {
   "cell_type": "markdown",
   "metadata": {},
   "source": [
    "loan_percent_income and loan_amnt have high correlation"
   ]
  },
  {
   "cell_type": "code",
   "execution_count": 55,
   "metadata": {},
   "outputs": [
    {
     "data": {
      "image/png": "[encoded data removed]",
      "text/plain": [
       "<Figure size 432x288 with 1 Axes>"
      ]
     },
     "metadata": {
      "needs_background": "light"
     },
     "output_type": "display_data"
    }
   ],
   "source": [
    "sns.countplot(x = \"loan_status\", data = df)\n",
    "plt.show()"
   ]
  },
  {
   "cell_type": "code",
   "execution_count": 56,
   "metadata": {},
   "outputs": [
    {
     "data": {
      "image/png": "[encoded data removed]",
      "text/plain": [
       "<Figure size 432x288 with 1 Axes>"
      ]
     },
     "metadata": {
      "needs_background": "light"
     },
     "output_type": "display_data"
    }
   ],
   "source": [
    "#Distribution of Loan Amounts\n",
    "\n",
    "n, bins, patches = plt.hist(x = df[\"loan_amnt\"], bins = \"auto\", color = \"blue\", alpha = 0.7, rwidth = 0.95)\n",
    "plt.xlabel(\"Loan Amount\")\n",
    "plt.show()"
   ]
  },
  {
   "cell_type": "code",
   "execution_count": 57,
   "metadata": {},
   "outputs": [
    {
     "data": {
      "image/png": "[encoded data removed]",
      "text/plain": [
       "<Figure size 432x288 with 1 Axes>"
      ]
     },
     "metadata": {
      "needs_background": "light"
     },
     "output_type": "display_data"
    }
   ],
   "source": [
    "#Scatter plot of Income Against Age\n",
    "plt.scatter(df[\"person_income\"], df[\"person_age\"], c = \"blue\", alpha = 0.5)\n",
    "plt.xlabel(\"Income\")\n",
    "plt.ylabel(\"Age\")\n",
    "plt.show()"
   ]
  },
  {
   "cell_type": "code",
   "execution_count": 58,
   "metadata": {},
   "outputs": [
    {
     "data": {
      "image/png": "[encoded data removed]",
      "text/plain": [
       "<Figure size 432x288 with 1 Axes>"
      ]
     },
     "metadata": {
      "needs_background": "light"
     },
     "output_type": "display_data"
    }
   ],
   "source": [
    "#Box plot of the percentage income by loan status\n",
    "df.boxplot(column = ['loan_percent_income'], by = 'loan_status')\n",
    "plt.title('Average Percent Income by Loan Status')\n",
    "plt.suptitle('')\n",
    "plt.show()"
   ]
  },
  {
   "cell_type": "markdown",
   "metadata": {},
   "source": [
    "\n",
    "Gathering the variables according to their data type."
   ]
  },
  {
   "cell_type": "code",
   "execution_count": 59,
   "metadata": {},
   "outputs": [
    {
     "name": "stdout",
     "output_type": "stream",
     "text": [
      "Observations: 26064\n",
      "Variables: 13\n",
      "cat_cols: 5\n",
      "num_cols: 8\n",
      "cat_but_car: 0\n",
      "num_but_cat: 1\n"
     ]
    }
   ],
   "source": [
    "def grab_col_names(dataframe, cat_th=10, car_th=20):\n",
    "    cat_cols = [col for col in dataframe.columns if dataframe[col].dtypes == \"O\"]\n",
    "    num_but_cat = [col for col in dataframe.columns if dataframe[col].nunique() < cat_th and dataframe[col].dtypes != \"O\"]\n",
    "    cat_but_car = [col for col in dataframe.columns if dataframe[col].nunique() > car_th and dataframe[col].dtypes == \"O\"]\n",
    "\n",
    "    cat_cols = cat_cols + num_but_cat\n",
    "    cat_cols = [col for col in cat_cols if col not in cat_but_car]\n",
    "\n",
    "    # num_cols\n",
    "    num_cols = [col for col in dataframe.columns if dataframe[col].dtypes != \"O\"]\n",
    "    num_cols = [col for col in num_cols if col not in num_but_cat]\n",
    "\n",
    "    print(f\"Observations: {dataframe.shape[0]}\")\n",
    "    print(f\"Variables: {dataframe.shape[1]}\")\n",
    "    print(f'cat_cols: {len(cat_cols)}')\n",
    "    print(f'num_cols: {len(num_cols)}')\n",
    "    print(f'cat_but_car: {len(cat_but_car)}')\n",
    "    print(f'num_but_cat: {len(num_but_cat)}')\n",
    "    return cat_cols, num_cols, cat_but_car,num_but_cat\n",
    "cat_cols, num_cols, cat_but_car,num_but_cat =grab_col_names(df)"
   ]
  },
  {
   "cell_type": "code",
   "execution_count": 60,
   "metadata": {},
   "outputs": [
    {
     "data": {
      "text/plain": [
       "['loan_status']"
      ]
     },
     "execution_count": 60,
     "metadata": {},
     "output_type": "execute_result"
    }
   ],
   "source": [
    "num_but_cat\n",
    "#Its the dependent variable "
   ]
  },
  {
   "cell_type": "code",
   "execution_count": 65,
   "metadata": {},
   "outputs": [
    {
     "data": {
      "text/plain": [
       "['person_home_ownership',\n",
       " 'loan_intent',\n",
       " 'loan_grade',\n",
       " 'cb_person_default_on_file',\n",
       " 'loan_status']"
      ]
     },
     "execution_count": 65,
     "metadata": {},
     "output_type": "execute_result"
    }
   ],
   "source": [
    "\n",
    "cat_cols\n"
   ]
  },
  {
   "cell_type": "markdown",
   "metadata": {},
   "source": [
    "From above it is clear that there are five categorical variables"
   ]
  },
  {
   "cell_type": "code",
   "execution_count": 62,
   "metadata": {},
   "outputs": [
    {
     "data": {
      "text/plain": [
       "['Unnamed: 0',\n",
       " 'person_age',\n",
       " 'person_income',\n",
       " 'person_emp_length',\n",
       " 'loan_amnt',\n",
       " 'loan_int_rate',\n",
       " 'loan_percent_income',\n",
       " 'cb_person_cred_hist_length']"
      ]
     },
     "execution_count": 62,
     "metadata": {},
     "output_type": "execute_result"
    }
   ],
   "source": [
    "num_cols"
   ]
  },
  {
   "cell_type": "markdown",
   "metadata": {},
   "source": [
    "From above it is clear that there are 7 numerical variables."
   ]
  },
  {
   "cell_type": "code",
   "execution_count": 66,
   "metadata": {},
   "outputs": [
    {
     "name": "stdout",
     "output_type": "stream",
     "text": [
      "               Unnamed: 0\n",
      "loan_status              \n",
      "0            16621.485083\n",
      "1            15173.174305\n",
      "\n",
      "\n",
      "             person_age\n",
      "loan_status            \n",
      "0             27.818351\n",
      "1             27.449478\n",
      "\n",
      "\n",
      "             person_income\n",
      "loan_status               \n",
      "0             70688.031157\n",
      "1             49194.426827\n",
      "\n",
      "\n",
      "             person_emp_length\n",
      "loan_status                   \n",
      "0                     4.967165\n",
      "1                     4.147091\n",
      "\n",
      "\n",
      "                loan_amnt\n",
      "loan_status              \n",
      "0             9245.004409\n",
      "1            10863.369315\n",
      "\n",
      "\n",
      "             loan_int_rate\n",
      "loan_status               \n",
      "0                10.426765\n",
      "1                13.083184\n",
      "\n",
      "\n",
      "             loan_percent_income\n",
      "loan_status                     \n",
      "0                       0.148942\n",
      "1                       0.247282\n",
      "\n",
      "\n",
      "             cb_person_cred_hist_length\n",
      "loan_status                            \n",
      "0                              5.844560\n",
      "1                              5.663068\n",
      "\n",
      "\n"
     ]
    }
   ],
   "source": [
    "#Grouping the mean of the numerical variables according to the credit default\n",
    "\n",
    "def target_summary_with_num(dataframe, target, numerical_col):\n",
    "    print(dataframe.groupby(target).agg({numerical_col: \"mean\"}), end=\"\\n\\n\\n\")\n",
    "for col in num_cols:\n",
    "    target_summary_with_num(df, \"loan_status\",col)"
   ]
  },
  {
   "cell_type": "markdown",
   "metadata": {},
   "source": [
    "Outliers:"
   ]
  },
  {
   "cell_type": "code",
   "execution_count": 69,
   "metadata": {},
   "outputs": [
    {
     "name": "stdout",
     "output_type": "stream",
     "text": [
      "Unnamed: 0 False\n",
      "person_age True\n",
      "person_income True\n",
      "person_emp_length True\n",
      "loan_amnt False\n",
      "loan_int_rate False\n",
      "loan_percent_income False\n",
      "cb_person_cred_hist_length False\n"
     ]
    }
   ],
   "source": [
    "#Defining outliers\n",
    "def outlier_thresholds(dataframe, col_name, q1=0.01, q3=0.99):\n",
    "    quartile1 = dataframe[col_name].quantile(q1)\n",
    "    quartile3 = dataframe[col_name].quantile(q3)\n",
    "    interquantile_range = quartile3 - quartile1\n",
    "    up_limit = quartile3 + 1.5 * interquantile_range\n",
    "    low_limit = quartile1 - 1.5 * interquantile_range\n",
    "    return low_limit, up_limit\n",
    "\n",
    "def check_outlier(dataframe, col_name):\n",
    "    low_limit, up_limit = outlier_thresholds(dataframe, col_name)\n",
    "    if dataframe[(dataframe[col_name] > up_limit) | (dataframe[col_name] < low_limit)].any(axis=None):\n",
    "        return True\n",
    "    else:\n",
    "        return False\n",
    "\n",
    "for col in num_cols:\n",
    "    print(col, check_outlier(df, col))\n",
    "#person_age, person_income and person_emp_lenght have some outlier observations"
   ]
  },
  {
   "cell_type": "code",
   "execution_count": 70,
   "metadata": {},
   "outputs": [
    {
     "data": {
      "text/plain": [
       "(Unnamed: 0                    -47590.480\n",
       " person_age                       -22.500\n",
       " person_income                -301500.000\n",
       " person_emp_length                -25.500\n",
       " loan_amnt                     -41925.000\n",
       " loan_int_rate                    -14.245\n",
       " loan_percent_income               -0.685\n",
       " cb_person_cred_hist_length       -20.500\n",
       " dtype: float64,\n",
       " Unnamed: 0                     80164.480\n",
       " person_age                        93.500\n",
       " person_income                 540900.000\n",
       " person_emp_length                 42.500\n",
       " loan_amnt                      72675.000\n",
       " loan_int_rate                     38.195\n",
       " loan_percent_income                1.195\n",
       " cb_person_cred_hist_length        39.500\n",
       " dtype: float64)"
      ]
     },
     "execution_count": 70,
     "metadata": {},
     "output_type": "execute_result"
    }
   ],
   "source": [
    "outlier_thresholds(df, num_cols)"
   ]
  },
  {
   "cell_type": "code",
   "execution_count": 71,
   "metadata": {},
   "outputs": [
    {
     "data": {
      "text/plain": [
       "Int64Index([928, 10597, 12262, 12993, 17562, 23601], dtype='int64')"
      ]
     },
     "execution_count": 71,
     "metadata": {},
     "output_type": "execute_result"
    }
   ],
   "source": [
    "df[df[\"person_age\"] > 93].index"
   ]
  },
  {
   "cell_type": "code",
   "execution_count": 73,
   "metadata": {},
   "outputs": [
    {
     "name": "stdout",
     "output_type": "stream",
     "text": [
      "Unnamed: 0 False\n",
      "person_age False\n",
      "person_income False\n",
      "person_emp_length False\n",
      "loan_amnt False\n",
      "loan_int_rate False\n",
      "loan_percent_income False\n",
      "cb_person_cred_hist_length False\n"
     ]
    }
   ],
   "source": [
    "#Replacing Outliers\n",
    "\n",
    "def replace_with_thresholds(dataframe, variable):\n",
    "    low_limit, up_limit = outlier_thresholds(dataframe, variable)\n",
    "    dataframe.loc[(dataframe[variable] < low_limit), variable] = low_limit\n",
    "    dataframe.loc[(dataframe[variable] > up_limit), variable] = up_limit\n",
    "\n",
    "for col in num_cols:\n",
    "    replace_with_thresholds(df, col)\n",
    "\n",
    "#Check\n",
    "for col in num_cols:\n",
    "    print(col, check_outlier(df, col))"
   ]
  },
  {
   "cell_type": "markdown",
   "metadata": {},
   "source": [
    "Missing values:"
   ]
  },
  {
   "cell_type": "code",
   "execution_count": 74,
   "metadata": {},
   "outputs": [
    {
     "data": {
      "text/plain": [
       "Unnamed: 0                       0\n",
       "person_age                       0\n",
       "person_income                    0\n",
       "person_home_ownership            0\n",
       "person_emp_length              714\n",
       "loan_intent                      0\n",
       "loan_grade                       0\n",
       "loan_amnt                        0\n",
       "loan_int_rate                 2489\n",
       "loan_status                      0\n",
       "loan_percent_income              0\n",
       "cb_person_default_on_file        0\n",
       "cb_person_cred_hist_length       0\n",
       "dtype: int64"
      ]
     },
     "execution_count": 74,
     "metadata": {},
     "output_type": "execute_result"
    }
   ],
   "source": [
    "df.isnull().sum()"
   ]
  },
  {
   "cell_type": "code",
   "execution_count": 77,
   "metadata": {},
   "outputs": [
    {
     "data": {
      "text/plain": [
       "0.12288980969920196"
      ]
     },
     "execution_count": 77,
     "metadata": {},
     "output_type": "execute_result"
    }
   ],
   "source": [
    "(714 + 2489) / len(df)\n",
    "# We have null values in 2 numeric variabels and they are 12% percent of our dataset.\n",
    "# We need to fill them because we can't lose 12%  of the   data.\n",
    "# We can fill them with median, mean and KNN Imputer. Fill them with median."
   ]
  },
  {
   "cell_type": "markdown",
   "metadata": {},
   "source": [
    "Checking for any missing values:"
   ]
  },
  {
   "cell_type": "code",
   "execution_count": 78,
   "metadata": {},
   "outputs": [
    {
     "data": {
      "text/plain": [
       "0"
      ]
     },
     "execution_count": 78,
     "metadata": {},
     "output_type": "execute_result"
    }
   ],
   "source": [
    "df[\"person_emp_length\"].fillna((df[\"person_emp_length\"].median()), inplace = True)\n",
    "df[\"loan_int_rate\"].fillna((df[\"loan_int_rate\"].mean()), inplace = True)\n",
    "#check\n",
    "df[\"loan_int_rate\"].isnull().sum()\n"
   ]
  },
  {
   "cell_type": "markdown",
   "metadata": {},
   "source": [
    "Above shows that Now there are no missing values in our data."
   ]
  },
  {
   "cell_type": "markdown",
   "metadata": {},
   "source": []
  },
  {
   "cell_type": "markdown",
   "metadata": {},
   "source": [
    "Rare Analysing & One-Hot Encoding\n",
    " With one-hot, we convert each categorical value into a new categorical column "
   ]
  },
  {
   "cell_type": "code",
   "execution_count": 79,
   "metadata": {},
   "outputs": [
    {
     "name": "stdout",
     "output_type": "stream",
     "text": [
      "person_home_ownership : 4\n",
      "          COUNT     RATIO  TARGET_MEAN\n",
      "MORTGAGE  10803  0.414480     0.123392\n",
      "OTHER        87  0.003338     0.321839\n",
      "OWN        2056  0.078883     0.073930\n",
      "RENT      13118  0.503300     0.315444\n",
      "\n",
      "\n",
      "loan_intent : 6\n",
      "                   COUNT     RATIO  TARGET_MEAN\n",
      "DEBTCONSOLIDATION   4134  0.158610     0.279632\n",
      "EDUCATION           5119  0.196401     0.172885\n",
      "HOMEIMPROVEMENT     2940  0.112799     0.262585\n",
      "MEDICAL             4885  0.187423     0.263664\n",
      "PERSONAL            4390  0.168432     0.199772\n",
      "VENTURE             4596  0.176335     0.146432\n",
      "\n",
      "\n",
      "loan_grade : 7\n",
      "   COUNT     RATIO  TARGET_MEAN\n",
      "A   8627  0.330993     0.098412\n",
      "B   8357  0.320634     0.161900\n",
      "C   5173  0.198473     0.204910\n",
      "D   2884  0.110651     0.588419\n",
      "E    771  0.029581     0.647211\n",
      "F    193  0.007405     0.699482\n",
      "G     59  0.002264     0.983051\n",
      "\n",
      "\n",
      "cb_person_default_on_file : 2\n",
      "   COUNT     RATIO  TARGET_MEAN\n",
      "N  21425  0.822015     0.182124\n",
      "Y   4639  0.177985     0.377021\n",
      "\n",
      "\n",
      "loan_status : 2\n",
      "   COUNT     RATIO  TARGET_MEAN\n",
      "0  20413  0.783188          0.0\n",
      "1   5651  0.216812          1.0\n",
      "\n",
      "\n"
     ]
    },
    {
     "data": {
      "text/plain": [
       "Index(['Unnamed: 0', 'person_age', 'person_income', 'person_emp_length',\n",
       "       'loan_amnt', 'loan_int_rate', 'loan_status', 'loan_percent_income',\n",
       "       'cb_person_cred_hist_length', 'person_home_ownership_OTHER',\n",
       "       'person_home_ownership_OWN', 'person_home_ownership_RENT',\n",
       "       'loan_intent_EDUCATION', 'loan_intent_HOMEIMPROVEMENT',\n",
       "       'loan_intent_MEDICAL', 'loan_intent_PERSONAL', 'loan_intent_VENTURE',\n",
       "       'loan_grade_B', 'loan_grade_C', 'loan_grade_D', 'loan_grade_E',\n",
       "       'loan_grade_F', 'loan_grade_G', 'cb_person_default_on_file_Y'],\n",
       "      dtype='object')"
      ]
     },
     "execution_count": 79,
     "metadata": {},
     "output_type": "execute_result"
    }
   ],
   "source": [
    "def rare_analyser(dataframe, target, cat_cols):\n",
    "    for col in cat_cols:\n",
    "        print(col, \":\", len(dataframe[col].value_counts()))\n",
    "        print(pd.DataFrame({\"COUNT\": dataframe[col].value_counts(),\n",
    "                            \"RATIO\": dataframe[col].value_counts() / len(dataframe),\n",
    "                            \"TARGET_MEAN\": dataframe.groupby(col)[target].mean()}), end=\"\\n\\n\\n\")\n",
    "rare_analyser(df, \"loan_status\", cat_cols)\n",
    "\n",
    "#One Hot Encoding\n",
    "def one_hot_encoder(dataframe, categorical_cols, drop_first=False):\n",
    "    dataframe = pd.get_dummies(dataframe, columns=categorical_cols, drop_first=drop_first)\n",
    "    return dataframe\n",
    "ohe_cols = [col for col in df.columns if 10 >= df[col].nunique() >= 2 and col not in \"loan_status\"]\n",
    "credit_new2 = one_hot_encoder(df, ohe_cols,drop_first=True)\n",
    "\n",
    "credit_new2.columns"
   ]
  },
  {
   "cell_type": "markdown",
   "metadata": {},
   "source": [
    "Creating the Model\n",
    "Logistic Regression"
   ]
  },
  {
   "cell_type": "code",
   "execution_count": 80,
   "metadata": {},
   "outputs": [],
   "source": [
    "#Multivariate Logistic Regression\n",
    "\n",
    "y = credit_new2[\"loan_status\"]\n",
    "X = credit_new2.drop([\"loan_status\"], axis=1)\n",
    "\n",
    "#Model\n",
    "logit = LogisticRegression().fit(X,y)"
   ]
  },
  {
   "cell_type": "code",
   "execution_count": 81,
   "metadata": {},
   "outputs": [
    {
     "data": {
      "text/plain": [
       "array([[ 2.70814304e-05, -9.17679858e-02, -3.91161759e-05,\n",
       "        -5.70092915e-02,  1.02388719e-04,  1.89939436e-01,\n",
       "         1.41971156e-03,  1.16620764e-02,  2.02475003e-04,\n",
       "        -1.12880993e-02,  2.18010815e-02, -8.52509822e-03,\n",
       "         5.51967084e-03,  3.49589785e-03, -2.92782667e-03,\n",
       "        -1.03447658e-02, -1.63035557e-02, -4.76267305e-03,\n",
       "         2.74564361e-02,  8.45272609e-03,  2.37897136e-03,\n",
       "         1.18550448e-03,  1.77060032e-02]])"
      ]
     },
     "execution_count": 81,
     "metadata": {},
     "output_type": "execute_result"
    }
   ],
   "source": [
    "logit.coef_"
   ]
  },
  {
   "cell_type": "code",
   "execution_count": 82,
   "metadata": {},
   "outputs": [
    {
     "data": {
      "text/plain": [
       "array([0, 0, 0, ..., 0, 0, 0], dtype=int64)"
      ]
     },
     "execution_count": 82,
     "metadata": {},
     "output_type": "execute_result"
    }
   ],
   "source": [
    "#Predictions\n",
    "y_pred = logit.predict(X)\n",
    "y_pred"
   ]
  },
  {
   "cell_type": "code",
   "execution_count": 83,
   "metadata": {},
   "outputs": [
    {
     "data": {
      "image/png": "[encoded data removed]",
      "text/plain": [
       "<Figure size 432x288 with 2 Axes>"
      ]
     },
     "metadata": {
      "needs_background": "light"
     },
     "output_type": "display_data"
    }
   ],
   "source": [
    "# Confusion Matrix\n",
    "def plot_confusion_matrix(y, y_pred):\n",
    "    acc = round(accuracy_score(y, y_pred), 2)\n",
    "    cm = confusion_matrix(y, y_pred)\n",
    "    sns.heatmap(cm, annot=True, fmt=\".0f\")\n",
    "    plt.xlabel('y_pred')\n",
    "    plt.ylabel('y')\n",
    "    plt.title('Accuracy Score: {0}'.format(acc), size=10)\n",
    "    plt.show()\n",
    "\n",
    "plot_confusion_matrix(y, y_pred)"
   ]
  },
  {
   "cell_type": "code",
   "execution_count": 84,
   "metadata": {},
   "outputs": [],
   "source": [
    "#Model Validation: Holdout\n",
    "#Splitting the Data\n",
    "X_train, X_test, y_train, y_test = train_test_split(X, y, test_size = .20, random_state = 112224)"
   ]
  },
  {
   "cell_type": "code",
   "execution_count": 88,
   "metadata": {},
   "outputs": [],
   "source": [
    "from sklearn.metrics import classification_report"
   ]
  },
  {
   "cell_type": "code",
   "execution_count": 89,
   "metadata": {},
   "outputs": [
    {
     "name": "stdout",
     "output_type": "stream",
     "text": [
      "              precision    recall  f1-score   support\n",
      "\n",
      "           0       0.84      0.95      0.89      4052\n",
      "           1       0.67      0.35      0.46      1161\n",
      "\n",
      "    accuracy                           0.82      5213\n",
      "   macro avg       0.75      0.65      0.68      5213\n",
      "weighted avg       0.80      0.82      0.79      5213\n",
      "\n"
     ]
    }
   ],
   "source": [
    "#Building Model with Train Set\n",
    "logit_model = LogisticRegression().fit(X_train, y_train)\n",
    "\n",
    "#Predicting the test set\n",
    "y_pred = logit_model.predict(X_test)\n",
    "\n",
    "#For AUC Score(Prob of Being Default)\n",
    "y_prob = logit_model.predict_proba(X_test)[:, 1]\n",
    "\n",
    "\n",
    "\n",
    "#Classification Report\n",
    "print(classification_report(y_test, y_pred))\n",
    "\n",
    "\n",
    "#F-1 score is very low."
   ]
  },
  {
   "cell_type": "markdown",
   "metadata": {},
   "source": [
    "#F-1 score is very low."
   ]
  },
  {
   "cell_type": "code",
   "execution_count": 90,
   "metadata": {},
   "outputs": [],
   "source": [
    "import matplotlib.pyplot as plt\n",
    "from sklearn import datasets, metrics, model_selection, svm"
   ]
  },
  {
   "cell_type": "code",
   "execution_count": 91,
   "metadata": {},
   "outputs": [
    {
     "name": "stderr",
     "output_type": "stream",
     "text": [
      "c:\\Users\\shikh\\anaconda3\\lib\\site-packages\\sklearn\\utils\\deprecation.py:87: FutureWarning: Function plot_roc_curve is deprecated; Function :func:`plot_roc_curve` is deprecated in 1.0 and will be removed in 1.2. Use one of the class methods: :meth:`sklearn.metrics.RocCurveDisplay.from_predictions` or :meth:`sklearn.metrics.RocCurveDisplay.from_estimator`.\n",
      "  warnings.warn(msg, category=FutureWarning)\n"
     ]
    },
    {
     "data": {
      "image/png": "[encoded data removed]",
      "text/plain": [
       "<Figure size 432x288 with 1 Axes>"
      ]
     },
     "metadata": {
      "needs_background": "light"
     },
     "output_type": "display_data"
    },
    {
     "data": {
      "text/plain": [
       "0.8127867013918118"
      ]
     },
     "execution_count": 91,
     "metadata": {},
     "output_type": "execute_result"
    }
   ],
   "source": [
    "#ROC Curve & ROC AUC Score\n",
    "\n",
    "# ROC Curve\n",
    "plot_roc_curve(logit_model, X_test, y_test)\n",
    "plt.title('ROC Curve')\n",
    "plt.plot([0, 1], [0, 1], 'r--')\n",
    "plt.show()\n",
    "\n",
    "roc_auc_score(y_test, y_prob)"
   ]
  },
  {
   "cell_type": "code",
   "execution_count": 92,
   "metadata": {},
   "outputs": [],
   "source": [
    "#Model Validation: 5-Fold Cross Validation\n",
    "\n",
    "y = credit_new2[\"loan_status\"]\n",
    "X = credit_new2.drop([\"loan_status\"], axis=1)\n",
    "\n",
    "#Model\n",
    "logit = LogisticRegression().fit(X,y)"
   ]
  },
  {
   "cell_type": "code",
   "execution_count": 94,
   "metadata": {},
   "outputs": [],
   "source": [
    "from sklearn import datasets, linear_model\n",
    "from sklearn.model_selection import cross_val_score"
   ]
  },
  {
   "cell_type": "code",
   "execution_count": 95,
   "metadata": {},
   "outputs": [],
   "source": [
    "cv_logit_acc = cross_val_score(logit, X,y,cv = 10, scoring = \"accuracy\")\n",
    "cv_logit_f1 = cross_val_score(logit, X,y,cv = 10, scoring = \"f1\")\n",
    "cv_logit_roc = cross_val_score(logit, X,y,cv = 10, scoring = \"roc_auc\")"
   ]
  },
  {
   "cell_type": "code",
   "execution_count": 96,
   "metadata": {},
   "outputs": [
    {
     "name": "stdout",
     "output_type": "stream",
     "text": [
      "Accuracy:  0.8144185131182031\n",
      " F-1 Score:  0.3563986279288102\n",
      "ROC AUC Score:  0.7814927909043249\n"
     ]
    }
   ],
   "source": [
    "print(\"Accuracy: \",cv_logit_acc.mean())\n",
    "print(\" F-1 Score: \",cv_logit_f1.mean())\n",
    "print(\"ROC AUC Score: \",cv_logit_roc.mean())"
   ]
  },
  {
   "cell_type": "code",
   "execution_count": 63,
   "metadata": {},
   "outputs": [],
   "source": [
    "#d_test = pd.read_csv(\"test.csv\")\n",
    "\n",
    "######################\n",
    "# Insert whatever you need to do to prep the data here. \n",
    "# It might be nothing if you have a big pipeline. \n",
    "# Ensure that at the end your data is in two arrays - xtest and ytest\n",
    "# Ensure the name of your final model is \"model\"\n",
    "# Each should contain the ENTIRE x or y dataset in the test data. \n",
    "#\n",
    "# This part should be reusable - any dataset in this format should just run\n",
    "# and generate predictions and accuracy stats. \n",
    "# Please DO NOT do any train-test splitting here. \n",
    "#######################\n",
    "\n",
    "# This should work once you're done, as is. \n",
    "# uncomment the stuff below when ready to run.\n",
    "#print(\"F1:\",f1_score(ytest, prediction_labels))\n",
    "#conf_matrix = confusion_matrix(ytest, prediction_labels)\n",
    "#sns.heatmap(conf_matrix, annot=True)"
   ]
  }
 ],
 "metadata": {
  "kernelspec": {
   "display_name": "Python 3.9.12 ('base')",
   "language": "python",
   "name": "python3"
  },
  "language_info": {
   "codemirror_mode": {
    "name": "ipython",
    "version": 3
   },
   "file_extension": ".py",
   "mimetype": "text/x-python",
   "name": "python",
   "nbconvert_exporter": "python",
   "pygments_lexer": "ipython3",
   "version": "3.9.12"
  },
  "orig_nbformat": 4,
  "vscode": {
   "interpreter": {
    "hash": "ac84c186c3977d3f3331649749bf53276a5c5befb029be0bc359ac378ed9e33b"
   }
  }
 },
 "nbformat": 4,
 "nbformat_minor": 2
}
